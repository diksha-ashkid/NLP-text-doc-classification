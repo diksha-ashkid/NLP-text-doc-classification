{
 "cells": [
  {
   "cell_type": "markdown",
   "metadata": {},
   "source": [
    "Loading Dataset\n",
    "\n",
    "\n",
    "\n",
    "\n",
    "-Train and test data splitting\n"
   ]
  },
  {
   "cell_type": "code",
   "execution_count": 7,
   "metadata": {},
   "outputs": [],
   "source": [
    "import pandas as pd\n",
    "\n",
    "#creating train dataset using random rows from the combined dataset\n",
    "df = pd.read_csv(r'G:\\Diksha\\7 sem\\Final yearproject\\NLP-text-doc-classification\\Dataset\\combined_final_dataset.csv')\n",
    "df = df.sample(n=1367, random_state=1)\n",
    "#save the csv to dataset folder\n",
    "df.to_csv('combined_final_dataset_train.csv', index=False) #saving the training dataset\n"
   ]
  },
  {
   "cell_type": "code",
   "execution_count": 9,
   "metadata": {},
   "outputs": [],
   "source": [
    "#creating test dataset using random rows from the combined dataset\n",
    "df = pd.read_csv(r'G:\\Diksha\\7 sem\\Final yearproject\\NLP-text-doc-classification\\Dataset\\combined_final_dataset.csv')\n",
    "df = df.sample(n=100, random_state=1)\n",
    "#save in datset folder\n",
    "\n",
    "df.to_csv('combined_final_dataset_test.csv', index=False) #saving the test csv\n"
   ]
  },
  {
   "cell_type": "code",
   "execution_count": 10,
   "metadata": {},
   "outputs": [],
   "source": [
    "df_train = pd.read_csv('combined_final_dataset_train.csv')\n",
    "df_test = pd.read_csv('combined_final_dataset_test.csv')"
   ]
  },
  {
   "cell_type": "code",
   "execution_count": null,
   "metadata": {},
   "outputs": [],
   "source": []
  }
 ],
 "metadata": {
  "kernelspec": {
   "display_name": "Python 3",
   "language": "python",
   "name": "python3"
  },
  "language_info": {
   "codemirror_mode": {
    "name": "ipython",
    "version": 3
   },
   "file_extension": ".py",
   "mimetype": "text/x-python",
   "name": "python",
   "nbconvert_exporter": "python",
   "pygments_lexer": "ipython3",
   "version": "3.10.10"
  }
 },
 "nbformat": 4,
 "nbformat_minor": 2
}
