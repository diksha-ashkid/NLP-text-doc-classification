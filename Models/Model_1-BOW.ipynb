{
 "cells": [
  {
   "cell_type": "code",
   "execution_count": 3,
   "metadata": {},
   "outputs": [
    {
     "data": {
      "text/plain": [
       "array(['News', 'Research Paper', 'Code', 'Medical', 'Legal',\n",
       "       'Financial documents'], dtype=object)"
      ]
     },
     "execution_count": 3,
     "metadata": {},
     "output_type": "execute_result"
    }
   ],
   "source": [
    "import pandas as pd\n",
    "import numpy as np\n",
    "\n",
    "data = pd.read_csv('../Dataset/combined_final_dataset.csv')\n",
    "data.head(10)\n",
    "\n",
    "#check unique categories\n",
    "data['main_category'].unique()\n"
   ]
  },
  {
   "cell_type": "code",
   "execution_count": 4,
   "metadata": {},
   "outputs": [
    {
     "data": {
      "text/plain": [
       "main_category\n",
       "Legal                  350\n",
       "Financial documents    350\n",
       "Medical                349\n",
       "News                   324\n",
       "Research Paper          61\n",
       "Code                    33\n",
       "Name: count, dtype: int64"
      ]
     },
     "execution_count": 4,
     "metadata": {},
     "output_type": "execute_result"
    }
   ],
   "source": [
    "data['main_category'].value_counts()\n"
   ]
  },
  {
   "cell_type": "code",
   "execution_count": 8,
   "metadata": {},
   "outputs": [
    {
     "name": "stdout",
     "output_type": "stream",
     "text": [
      "Accuracy: 0.9554794520547946\n"
     ]
    }
   ],
   "source": [
    "from sklearn.feature_extraction.text import CountVectorizer\n",
    "from sklearn.model_selection import train_test_split\n",
    "#import multinomial naive bayes model\n",
    "from sklearn.naive_bayes import MultinomialNB\n",
    "\n",
    "# Drop rows with NaN values in the 'description' column\n",
    "data = data.dropna(subset=['description'])\n",
    "\n",
    "# Instantiate CountVectorizer\n",
    "vectorizer = CountVectorizer()\n",
    "\n",
    "# Transform the 'description' column\n",
    "X = vectorizer.fit_transform(data['description'])\n",
    "y = data['main_category']\n",
    "\n",
    "# Split the data into training and testing sets\n",
    "X_train, X_test, y_train, y_test = train_test_split(X, y, test_size=0.2, random_state=42)\n",
    "\n",
    "classifier = MultinomialNB()\n",
    "classifier.fit(X_train, y_train)\n",
    "\n",
    "accuracy = classifier.score(X_test, y_test)\n",
    "print(\"Accuracy:\", accuracy)\n",
    "\n",
    "\n"
   ]
  },
  {
   "cell_type": "code",
   "execution_count": 9,
   "metadata": {},
   "outputs": [
    {
     "name": "stdout",
     "output_type": "stream",
     "text": [
      "                     precision    recall  f1-score   support\n",
      "\n",
      "               Code       1.00      1.00      1.00         6\n",
      "Financial documents       0.88      0.95      0.92        63\n",
      "              Legal       0.95      1.00      0.97        74\n",
      "            Medical       0.99      1.00      0.99        74\n",
      "               News       1.00      0.83      0.91        59\n",
      "     Research Paper       1.00      1.00      1.00        16\n",
      "\n",
      "           accuracy                           0.96       292\n",
      "          macro avg       0.97      0.96      0.97       292\n",
      "       weighted avg       0.96      0.96      0.95       292\n",
      "\n"
     ]
    }
   ],
   "source": [
    "#classification report\n",
    "from sklearn.metrics import classification_report\n",
    "y_pred = classifier.predict(X_test)\n",
    "print(classification_report(y_test, y_pred))\n"
   ]
  },
  {
   "cell_type": "code",
   "execution_count": 11,
   "metadata": {},
   "outputs": [
    {
     "name": "stdout",
     "output_type": "stream",
     "text": [
      "Prediction: ['Financial documents']\n"
     ]
    }
   ],
   "source": [
    "\n",
    "new_description = [\"Loan approved rs 2000 to pay\"]\n",
    "new_description_vectorized = vectorizer.transform(new_description)\n",
    "prediction = classifier.predict(new_description_vectorized)\n",
    "print(\"Prediction:\", prediction)\n",
    "\n"
   ]
  },
  {
   "cell_type": "code",
   "execution_count": 24,
   "metadata": {},
   "outputs": [
    {
     "name": "stdout",
     "output_type": "stream",
     "text": [
      "Prediction: ['News']\n"
     ]
    }
   ],
   "source": [
    "\n",
    "new_description = [\"The country’s security cabinet officially declared that the country is at war with Palestine. The conflict has led to the death of over 700 Israelis and thousands of others have been injured. Meanwhile, the death toll in Gaza has also risen to 493, suggest reports. US President Joe Biden \"]\n",
    "new_description_vectorized = vectorizer.transform(new_description)\n",
    "prediction = classifier.predict(new_description_vectorized)\n",
    "print(\"Prediction:\", prediction)\n",
    "\n"
   ]
  },
  {
   "cell_type": "code",
   "execution_count": 25,
   "metadata": {},
   "outputs": [
    {
     "name": "stdout",
     "output_type": "stream",
     "text": [
      "Prediction: ['Code']\n"
     ]
    }
   ],
   "source": [
    "\n",
    "new_description = [\"Arrhythmia or irregular heartbeat is a condition in which the heart  is unable to pump blood to the body efficiently. Symptoms of arrhythmia include: Fluttering in the chest Pounding heartbeat \"]\n",
    "new_description_vectorized = vectorizer.transform(new_description)\n",
    "prediction = classifier.predict(new_description_vectorized)\n",
    "print(\"Prediction:\", prediction)\n",
    "\n"
   ]
  },
  {
   "cell_type": "code",
   "execution_count": 15,
   "metadata": {},
   "outputs": [
    {
     "name": "stdout",
     "output_type": "stream",
     "text": [
      "Prediction: ['News']\n"
     ]
    }
   ],
   "source": [
    "\n",
    "new_description = [\"class FactorialCalculator: def calculate_factorial(self, n):  if n == 0:   return 1 else:  result = 1  for i in range(1, n + 1):   result *= i return result\"]\n",
    "new_description_vectorized = vectorizer.transform(new_description)\n",
    "prediction = classifier.predict(new_description_vectorized)\n",
    "print(\"Prediction:\", prediction)\n",
    "\n"
   ]
  },
  {
   "cell_type": "code",
   "execution_count": null,
   "metadata": {},
   "outputs": [],
   "source": []
  },
  {
   "cell_type": "code",
   "execution_count": null,
   "metadata": {},
   "outputs": [],
   "source": []
  }
 ],
 "metadata": {
  "kernelspec": {
   "display_name": "Python 3",
   "language": "python",
   "name": "python3"
  },
  "language_info": {
   "codemirror_mode": {
    "name": "ipython",
    "version": 3
   },
   "file_extension": ".py",
   "mimetype": "text/x-python",
   "name": "python",
   "nbconvert_exporter": "python",
   "pygments_lexer": "ipython3",
   "version": "3.10.10"
  },
  "orig_nbformat": 4
 },
 "nbformat": 4,
 "nbformat_minor": 2
}
