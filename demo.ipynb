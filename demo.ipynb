{
 "cells": [
  {
   "cell_type": "code",
   "execution_count": 1,
   "metadata": {},
   "outputs": [
    {
     "name": "stderr",
     "output_type": "stream",
     "text": [
      "Some weights of the PyTorch model were not used when initializing the TF 2.0 model TFBertModel: ['cls.predictions.transform.dense.bias', 'cls.predictions.bias', 'cls.predictions.transform.LayerNorm.weight', 'cls.predictions.transform.LayerNorm.bias', 'cls.seq_relationship.weight', 'cls.seq_relationship.bias', 'cls.predictions.transform.dense.weight']\n",
      "- This IS expected if you are initializing TFBertModel from a PyTorch model trained on another task or with another architecture (e.g. initializing a TFBertForSequenceClassification model from a BertForPreTraining model).\n",
      "- This IS NOT expected if you are initializing TFBertModel from a PyTorch model that you expect to be exactly identical (e.g. initializing a TFBertForSequenceClassification model from a BertForSequenceClassification model).\n",
      "All the weights of TFBertModel were initialized from the PyTorch model.\n",
      "If your task is similar to the task the model of the checkpoint was trained on, you can already use TFBertModel for predictions without further training.\n"
     ]
    },
    {
     "data": {
      "text/plain": [
       "\"#validation = model.predict({'input_ids':x_val['input_ids'],'attention_mask':x_val['attention_mask']})*100\\nfor key , value in zip(encoded_dict.keys(),validation[0]):\\n    print(key,value)\\n    #ssvae the value ina  variable\\n    dict1 = {key:value}\\n\""
      ]
     },
     "execution_count": 1,
     "metadata": {},
     "output_type": "execute_result"
    }
   ],
   "source": [
    "import os\n",
    "import shutil\n",
    "import logging\n",
    "from dir_ops import Move\n",
    "import pandas as pd\n",
    "from collections import defaultdict\n",
    "from SearchAlgo import DocumentSearch\n",
    "from transformers import AutoTokenizer,TFBertModel #importing the tokenizer and bert model\n",
    "#import keras\n",
    "import tensorflow as tf\n",
    "from keras.models import load_model\n",
    "tokenizer = AutoTokenizer.from_pretrained('bert-base-cased')\n",
    "bert = TFBertModel.from_pretrained('bert-base-cased')\n",
    "\n",
    "\n",
    "#model = load_model(\"D:/Backup/Desktop/programs/NLP-text-doc-classification/customized_transformer_model.h5\",custom_objects={\"TFBertModel\":TFBertModel})\n",
    "\n",
    "'''#validation = model.predict({'input_ids':x_val['input_ids'],'attention_mask':x_val['attention_mask']})*100\n",
    "for key , value in zip(encoded_dict.keys(),validation[0]):\n",
    "    print(key,value)\n",
    "    #ssvae the value ina  variable\n",
    "    dict1 = {key:value}\n",
    "'''\n",
    " \n"
   ]
  },
  {
   "cell_type": "code",
   "execution_count": null,
   "metadata": {},
   "outputs": [],
   "source": [
    "ex_file = r\"D:\\Backup\\Desktop\\programs\\NLP-text-doc-classification\\demo\\reseach doc.txt\"\n",
    "\n",
    "#extract text from file and store in a variable\n",
    "with open(ex_file, 'r') as f:\n",
    "    text = f.read()\n",
    "print(text)\n",
    "encoded_dict = {\n",
    "    'News': 0,\n",
    "    'Research Paper': 1,\n",
    "    'Code': 2,\n",
    "    'Medical': 3,\n",
    "    'Legal': 4,\n",
    "    'Financial documents': 5\n",
    "}\n",
    "\n",
    "x_val = tokenizer(\n",
    "    text=text,\n",
    "    add_special_tokens=True,\n",
    "    max_length=300,\n",
    "    truncation=True,\n",
    "    padding='max_length', \n",
    "    return_tensors='tf',\n",
    "    return_token_type_ids = False,\n",
    "    return_attention_mask = True,\n",
    "    verbose = True)\n",
    "\n",
    "#validation = model.predict({'input_ids':x_val['input_ids'],'attention_mask':x_val['attention_mask']})*100\n",
    "#validation = model.predict({'input_ids':x_val['input_ids'],'attention_mask':x_val['attention_mask']})*100\n",
    "#for key , value in zip(encoded_dict.keys(),validation[0]):\n",
    "   # print(key,value)\n",
    "    #save the value ina  variable\n",
    "   # dict1 = {key:value}"
   ]
  },
  {
   "cell_type": "code",
   "execution_count": null,
   "metadata": {},
   "outputs": [],
   "source": [
    "#select the key with the highest value\n",
    "#max_key = max(dict1, key=dict1.get)\n",
    "max_key = \"Research Paper\"\n",
    "mover = Move()\n",
    "mover.classify_document(ex_file, max_key)"
   ]
  },
  {
   "cell_type": "code",
   "execution_count": null,
   "metadata": {},
   "outputs": [],
   "source": [
    "searcher = DocumentSearch()\n",
    "\n",
    "user_keyword = input(\"comma separated keywords: \").split(\",\")\n",
    "results = searcher.retrieve_documents(user_keyword)"
   ]
  },
  {
   "cell_type": "code",
   "execution_count": null,
   "metadata": {},
   "outputs": [],
   "source": [
    "print(\"Retrieved Documents:\")\n",
    "for i, doc in enumerate(results, start=1,):\n",
    "    print(f\"{i}. Title: {doc['Title']}, Category: {doc['main_category']}\")# Date: {doc['date']}, Description: x\")\n",
    "\n"
   ]
  }
 ],
 "metadata": {
  "kernelspec": {
   "display_name": "Python 3",
   "language": "python",
   "name": "python3"
  },
  "language_info": {
   "codemirror_mode": {
    "name": "ipython",
    "version": 3
   },
   "file_extension": ".py",
   "mimetype": "text/x-python",
   "name": "python",
   "nbconvert_exporter": "python",
   "pygments_lexer": "ipython3",
   "version": "3.10.7"
  }
 },
 "nbformat": 4,
 "nbformat_minor": 2
}
