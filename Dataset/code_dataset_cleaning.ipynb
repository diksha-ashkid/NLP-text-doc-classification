{
 "cells": [
  {
   "cell_type": "code",
   "execution_count": 1,
   "metadata": {},
   "outputs": [
    {
     "data": {
      "text/html": [
       "<div>\n",
       "<style scoped>\n",
       "    .dataframe tbody tr th:only-of-type {\n",
       "        vertical-align: middle;\n",
       "    }\n",
       "\n",
       "    .dataframe tbody tr th {\n",
       "        vertical-align: top;\n",
       "    }\n",
       "\n",
       "    .dataframe thead th {\n",
       "        text-align: right;\n",
       "    }\n",
       "</style>\n",
       "<table border=\"1\" class=\"dataframe\">\n",
       "  <thead>\n",
       "    <tr style=\"text-align: right;\">\n",
       "      <th></th>\n",
       "      <th>Code</th>\n",
       "      <th>Language</th>\n",
       "    </tr>\n",
       "  </thead>\n",
       "  <tbody>\n",
       "    <tr>\n",
       "      <th>0</th>\n",
       "      <td>class ComplexClass:\\n    def _init_(self, x):\\...</td>\n",
       "      <td>Python</td>\n",
       "    </tr>\n",
       "    <tr>\n",
       "      <th>1</th>\n",
       "      <td>def recursive_factorial(n):\\n    if n == 0:\\n ...</td>\n",
       "      <td>Python</td>\n",
       "    </tr>\n",
       "    <tr>\n",
       "      <th>2</th>\n",
       "      <td>def mergeSort(arr):\\n    if len(arr) &lt;= 1:\\n  ...</td>\n",
       "      <td>Python</td>\n",
       "    </tr>\n",
       "    <tr>\n",
       "      <th>3</th>\n",
       "      <td>def recursive_power(base, exponent):\\n    if e...</td>\n",
       "      <td>Python</td>\n",
       "    </tr>\n",
       "    <tr>\n",
       "      <th>4</th>\n",
       "      <td>class Student:\\n    def _init_(self, name, age...</td>\n",
       "      <td>Python</td>\n",
       "    </tr>\n",
       "  </tbody>\n",
       "</table>\n",
       "</div>"
      ],
      "text/plain": [
       "                                                Code Language\n",
       "0  class ComplexClass:\\n    def _init_(self, x):\\...   Python\n",
       "1  def recursive_factorial(n):\\n    if n == 0:\\n ...   Python\n",
       "2  def mergeSort(arr):\\n    if len(arr) <= 1:\\n  ...   Python\n",
       "3  def recursive_power(base, exponent):\\n    if e...   Python\n",
       "4  class Student:\\n    def _init_(self, name, age...   Python"
      ]
     },
     "execution_count": 1,
     "metadata": {},
     "output_type": "execute_result"
    }
   ],
   "source": [
    "import pandas as pd\n",
    "df = pd.read_csv(r'AakashCodeDS.csv')\n",
    "df.head()"
   ]
  },
  {
   "cell_type": "code",
   "execution_count": 2,
   "metadata": {},
   "outputs": [
    {
     "data": {
      "text/plain": [
       "array(['Python'], dtype=object)"
      ]
     },
     "execution_count": 2,
     "metadata": {},
     "output_type": "execute_result"
    }
   ],
   "source": [
    "df['Language'].unique()"
   ]
  },
  {
   "cell_type": "code",
   "execution_count": 3,
   "metadata": {},
   "outputs": [
    {
     "data": {
      "text/plain": [
       "Code        0\n",
       "Language    0\n",
       "dtype: int64"
      ]
     },
     "execution_count": 3,
     "metadata": {},
     "output_type": "execute_result"
    }
   ],
   "source": [
    "df.isnull().sum()"
   ]
  },
  {
   "cell_type": "code",
   "execution_count": 4,
   "metadata": {},
   "outputs": [
    {
     "data": {
      "text/plain": [
       "33"
      ]
     },
     "execution_count": 4,
     "metadata": {},
     "output_type": "execute_result"
    }
   ],
   "source": [
    "#total rows \n",
    "len(df)"
   ]
  },
  {
   "cell_type": "code",
   "execution_count": 5,
   "metadata": {},
   "outputs": [],
   "source": [
    "import pandas as pd\n",
    "import re\n",
    "def clean_code(code):\n",
    "    # Remove comments (lines starting with // or /* and ending with */)\n",
    "    code = re.sub(r'//.*?$', '', code, flags=re.MULTILINE)\n",
    "    code = re.sub(r'/\\*.*?\\*/', '', code, flags=re.MULTILINE | re.DOTALL)\n",
    "\n",
    "    # Remove non-alphanumeric characters and extra whitespaces\n",
    "    code = ' '.join(re.findall(r'\\w+', code))\n",
    "\n",
    "    return code"
   ]
  },
  {
   "cell_type": "code",
   "execution_count": 6,
   "metadata": {},
   "outputs": [],
   "source": [
    "df['description'] = df['Code'].apply(clean_code)"
   ]
  },
  {
   "cell_type": "code",
   "execution_count": 7,
   "metadata": {},
   "outputs": [
    {
     "data": {
      "text/html": [
       "<div>\n",
       "<style scoped>\n",
       "    .dataframe tbody tr th:only-of-type {\n",
       "        vertical-align: middle;\n",
       "    }\n",
       "\n",
       "    .dataframe tbody tr th {\n",
       "        vertical-align: top;\n",
       "    }\n",
       "\n",
       "    .dataframe thead th {\n",
       "        text-align: right;\n",
       "    }\n",
       "</style>\n",
       "<table border=\"1\" class=\"dataframe\">\n",
       "  <thead>\n",
       "    <tr style=\"text-align: right;\">\n",
       "      <th></th>\n",
       "      <th>Code</th>\n",
       "      <th>Language</th>\n",
       "      <th>description</th>\n",
       "    </tr>\n",
       "  </thead>\n",
       "  <tbody>\n",
       "    <tr>\n",
       "      <th>0</th>\n",
       "      <td>class ComplexClass:\\n    def _init_(self, x):\\...</td>\n",
       "      <td>Python</td>\n",
       "      <td>class ComplexClass n def _init_ self x n self ...</td>\n",
       "    </tr>\n",
       "    <tr>\n",
       "      <th>1</th>\n",
       "      <td>def recursive_factorial(n):\\n    if n == 0:\\n ...</td>\n",
       "      <td>Python</td>\n",
       "      <td>def recursive_factorial n n if n 0 n return 1 ...</td>\n",
       "    </tr>\n",
       "    <tr>\n",
       "      <th>2</th>\n",
       "      <td>def mergeSort(arr):\\n    if len(arr) &lt;= 1:\\n  ...</td>\n",
       "      <td>Python</td>\n",
       "      <td>def mergeSort arr n if len arr 1 n return arr ...</td>\n",
       "    </tr>\n",
       "    <tr>\n",
       "      <th>3</th>\n",
       "      <td>def recursive_power(base, exponent):\\n    if e...</td>\n",
       "      <td>Python</td>\n",
       "      <td>def recursive_power base exponent n if exponen...</td>\n",
       "    </tr>\n",
       "    <tr>\n",
       "      <th>4</th>\n",
       "      <td>class Student:\\n    def _init_(self, name, age...</td>\n",
       "      <td>Python</td>\n",
       "      <td>class Student n def _init_ self name age n sel...</td>\n",
       "    </tr>\n",
       "  </tbody>\n",
       "</table>\n",
       "</div>"
      ],
      "text/plain": [
       "                                                Code Language  \\\n",
       "0  class ComplexClass:\\n    def _init_(self, x):\\...   Python   \n",
       "1  def recursive_factorial(n):\\n    if n == 0:\\n ...   Python   \n",
       "2  def mergeSort(arr):\\n    if len(arr) <= 1:\\n  ...   Python   \n",
       "3  def recursive_power(base, exponent):\\n    if e...   Python   \n",
       "4  class Student:\\n    def _init_(self, name, age...   Python   \n",
       "\n",
       "                                         description  \n",
       "0  class ComplexClass n def _init_ self x n self ...  \n",
       "1  def recursive_factorial n n if n 0 n return 1 ...  \n",
       "2  def mergeSort arr n if len arr 1 n return arr ...  \n",
       "3  def recursive_power base exponent n if exponen...  \n",
       "4  class Student n def _init_ self name age n sel...  "
      ]
     },
     "execution_count": 7,
     "metadata": {},
     "output_type": "execute_result"
    }
   ],
   "source": [
    "df.head()"
   ]
  },
  {
   "cell_type": "code",
   "execution_count": 8,
   "metadata": {},
   "outputs": [],
   "source": [
    "df['Title'] = df['Language'] "
   ]
  },
  {
   "cell_type": "code",
   "execution_count": 9,
   "metadata": {},
   "outputs": [
    {
     "data": {
      "text/plain": [
       "array(['Python'], dtype=object)"
      ]
     },
     "execution_count": 9,
     "metadata": {},
     "output_type": "execute_result"
    }
   ],
   "source": [
    "df['Title'].unique()"
   ]
  },
  {
   "cell_type": "code",
   "execution_count": 10,
   "metadata": {},
   "outputs": [],
   "source": [
    "#Adding a date column\n",
    "df['date'] = '2023-10-08'\n",
    "df['date'] = pd.to_datetime(df['date'])\n",
    "df['main_category'] = 'Code'"
   ]
  },
  {
   "cell_type": "code",
   "execution_count": 11,
   "metadata": {},
   "outputs": [],
   "source": [
    "#Renaming language column to category\n",
    "df.rename(columns={'language': 'category'}, inplace=True)"
   ]
  },
  {
   "cell_type": "code",
   "execution_count": 12,
   "metadata": {},
   "outputs": [
    {
     "data": {
      "text/html": [
       "<div>\n",
       "<style scoped>\n",
       "    .dataframe tbody tr th:only-of-type {\n",
       "        vertical-align: middle;\n",
       "    }\n",
       "\n",
       "    .dataframe tbody tr th {\n",
       "        vertical-align: top;\n",
       "    }\n",
       "\n",
       "    .dataframe thead th {\n",
       "        text-align: right;\n",
       "    }\n",
       "</style>\n",
       "<table border=\"1\" class=\"dataframe\">\n",
       "  <thead>\n",
       "    <tr style=\"text-align: right;\">\n",
       "      <th></th>\n",
       "      <th>Code</th>\n",
       "      <th>Language</th>\n",
       "      <th>description</th>\n",
       "      <th>Title</th>\n",
       "      <th>date</th>\n",
       "      <th>main_category</th>\n",
       "    </tr>\n",
       "  </thead>\n",
       "  <tbody>\n",
       "    <tr>\n",
       "      <th>0</th>\n",
       "      <td>class ComplexClass:\\n    def _init_(self, x):\\...</td>\n",
       "      <td>Python</td>\n",
       "      <td>class ComplexClass n def _init_ self x n self ...</td>\n",
       "      <td>Python</td>\n",
       "      <td>2023-10-08</td>\n",
       "      <td>Code</td>\n",
       "    </tr>\n",
       "    <tr>\n",
       "      <th>1</th>\n",
       "      <td>def recursive_factorial(n):\\n    if n == 0:\\n ...</td>\n",
       "      <td>Python</td>\n",
       "      <td>def recursive_factorial n n if n 0 n return 1 ...</td>\n",
       "      <td>Python</td>\n",
       "      <td>2023-10-08</td>\n",
       "      <td>Code</td>\n",
       "    </tr>\n",
       "    <tr>\n",
       "      <th>2</th>\n",
       "      <td>def mergeSort(arr):\\n    if len(arr) &lt;= 1:\\n  ...</td>\n",
       "      <td>Python</td>\n",
       "      <td>def mergeSort arr n if len arr 1 n return arr ...</td>\n",
       "      <td>Python</td>\n",
       "      <td>2023-10-08</td>\n",
       "      <td>Code</td>\n",
       "    </tr>\n",
       "    <tr>\n",
       "      <th>3</th>\n",
       "      <td>def recursive_power(base, exponent):\\n    if e...</td>\n",
       "      <td>Python</td>\n",
       "      <td>def recursive_power base exponent n if exponen...</td>\n",
       "      <td>Python</td>\n",
       "      <td>2023-10-08</td>\n",
       "      <td>Code</td>\n",
       "    </tr>\n",
       "    <tr>\n",
       "      <th>4</th>\n",
       "      <td>class Student:\\n    def _init_(self, name, age...</td>\n",
       "      <td>Python</td>\n",
       "      <td>class Student n def _init_ self name age n sel...</td>\n",
       "      <td>Python</td>\n",
       "      <td>2023-10-08</td>\n",
       "      <td>Code</td>\n",
       "    </tr>\n",
       "  </tbody>\n",
       "</table>\n",
       "</div>"
      ],
      "text/plain": [
       "                                                Code Language  \\\n",
       "0  class ComplexClass:\\n    def _init_(self, x):\\...   Python   \n",
       "1  def recursive_factorial(n):\\n    if n == 0:\\n ...   Python   \n",
       "2  def mergeSort(arr):\\n    if len(arr) <= 1:\\n  ...   Python   \n",
       "3  def recursive_power(base, exponent):\\n    if e...   Python   \n",
       "4  class Student:\\n    def _init_(self, name, age...   Python   \n",
       "\n",
       "                                         description   Title       date  \\\n",
       "0  class ComplexClass n def _init_ self x n self ...  Python 2023-10-08   \n",
       "1  def recursive_factorial n n if n 0 n return 1 ...  Python 2023-10-08   \n",
       "2  def mergeSort arr n if len arr 1 n return arr ...  Python 2023-10-08   \n",
       "3  def recursive_power base exponent n if exponen...  Python 2023-10-08   \n",
       "4  class Student n def _init_ self name age n sel...  Python 2023-10-08   \n",
       "\n",
       "  main_category  \n",
       "0          Code  \n",
       "1          Code  \n",
       "2          Code  \n",
       "3          Code  \n",
       "4          Code  "
      ]
     },
     "execution_count": 12,
     "metadata": {},
     "output_type": "execute_result"
    }
   ],
   "source": [
    "df.head()"
   ]
  },
  {
   "cell_type": "code",
   "execution_count": null,
   "metadata": {},
   "outputs": [],
   "source": []
  },
  {
   "cell_type": "code",
   "execution_count": 26,
   "metadata": {},
   "outputs": [],
   "source": [
    "#save to csv\n",
    "df.to_csv('Code_final_dataset.csv', index=False)"
   ]
  },
  {
   "cell_type": "code",
   "execution_count": null,
   "metadata": {},
   "outputs": [],
   "source": []
  }
 ],
 "metadata": {
  "kernelspec": {
   "display_name": "Python 3",
   "language": "python",
   "name": "python3"
  },
  "language_info": {
   "codemirror_mode": {
    "name": "ipython",
    "version": 3
   },
   "file_extension": ".py",
   "mimetype": "text/x-python",
   "name": "python",
   "nbconvert_exporter": "python",
   "pygments_lexer": "ipython3",
   "version": "3.10.7"
  },
  "orig_nbformat": 4
 },
 "nbformat": 4,
 "nbformat_minor": 2
}
